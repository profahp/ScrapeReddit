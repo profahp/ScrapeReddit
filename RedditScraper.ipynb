{
 "cells": [
  {
   "cell_type": "code",
   "execution_count": 4,
   "metadata": {
    "scrolled": true
   },
   "outputs": [
    {
     "name": "stdout",
     "output_type": "stream",
     "text": [
      "Requirement already satisfied: pandas in c:\\users\\shawn\\anaconda3\\lib\\site-packages (1.0.5)\n",
      "Requirement already satisfied: python-dateutil>=2.6.1 in c:\\users\\shawn\\anaconda3\\lib\\site-packages (from pandas) (2.8.1)\n",
      "Requirement already satisfied: numpy>=1.13.3 in c:\\users\\shawn\\anaconda3\\lib\\site-packages (from pandas) (1.18.5)\n",
      "Requirement already satisfied: pytz>=2017.2 in c:\\users\\shawn\\anaconda3\\lib\\site-packages (from pandas) (2020.1)\n",
      "Requirement already satisfied: six>=1.5 in c:\\users\\shawn\\anaconda3\\lib\\site-packages (from python-dateutil>=2.6.1->pandas) (1.15.0)\n",
      "Requirement already satisfied: requests in c:\\users\\shawn\\anaconda3\\lib\\site-packages (2.27.1)\n",
      "Requirement already satisfied: idna<4,>=2.5; python_version >= \"3\" in c:\\users\\shawn\\anaconda3\\lib\\site-packages (from requests) (2.10)\n",
      "Requirement already satisfied: charset-normalizer~=2.0.0; python_version >= \"3\" in c:\\users\\shawn\\anaconda3\\lib\\site-packages (from requests) (2.0.11)\n",
      "Requirement already satisfied: urllib3<1.27,>=1.21.1 in c:\\users\\shawn\\anaconda3\\lib\\site-packages (from requests) (1.25.9)\n",
      "Requirement already satisfied: certifi>=2017.4.17 in c:\\users\\shawn\\anaconda3\\lib\\site-packages (from requests) (2021.5.30)\n",
      "Requirement already satisfied: pymongo in c:\\users\\shawn\\anaconda3\\lib\\site-packages (4.0.1)\n",
      "Requirement already satisfied: urllib3 in c:\\users\\shawn\\anaconda3\\lib\\site-packages (1.25.9)\n",
      "Requirement already satisfied: datetime in c:\\users\\shawn\\anaconda3\\lib\\site-packages (4.4)\n",
      "Requirement already satisfied: pytz in c:\\users\\shawn\\anaconda3\\lib\\site-packages (from datetime) (2020.1)\n",
      "Requirement already satisfied: zope.interface in c:\\users\\shawn\\anaconda3\\lib\\site-packages (from datetime) (4.7.1)\n",
      "Requirement already satisfied: setuptools in c:\\users\\shawn\\anaconda3\\lib\\site-packages (from zope.interface->datetime) (49.2.0.post20200714)\n",
      "Collecting praw\n",
      "  Downloading praw-7.5.0-py3-none-any.whl (176 kB)\n",
      "Collecting prawcore<3,>=2.1\n",
      "  Downloading prawcore-2.3.0-py3-none-any.whl (16 kB)\n",
      "Collecting update-checker>=0.18\n",
      "  Downloading update_checker-0.18.0-py3-none-any.whl (7.0 kB)\n",
      "Collecting websocket-client>=0.54.0\n",
      "  Downloading websocket_client-1.3.2-py3-none-any.whl (54 kB)\n",
      "Requirement already satisfied: requests<3.0,>=2.6.0 in c:\\users\\shawn\\anaconda3\\lib\\site-packages (from prawcore<3,>=2.1->praw) (2.27.1)\n",
      "Requirement already satisfied: idna<4,>=2.5; python_version >= \"3\" in c:\\users\\shawn\\anaconda3\\lib\\site-packages (from requests<3.0,>=2.6.0->prawcore<3,>=2.1->praw) (2.10)\n",
      "Requirement already satisfied: charset-normalizer~=2.0.0; python_version >= \"3\" in c:\\users\\shawn\\anaconda3\\lib\\site-packages (from requests<3.0,>=2.6.0->prawcore<3,>=2.1->praw) (2.0.11)\n",
      "Requirement already satisfied: urllib3<1.27,>=1.21.1 in c:\\users\\shawn\\anaconda3\\lib\\site-packages (from requests<3.0,>=2.6.0->prawcore<3,>=2.1->praw) (1.25.9)\n",
      "Requirement already satisfied: certifi>=2017.4.17 in c:\\users\\shawn\\anaconda3\\lib\\site-packages (from requests<3.0,>=2.6.0->prawcore<3,>=2.1->praw) (2021.5.30)\n",
      "Installing collected packages: prawcore, update-checker, websocket-client, praw\n",
      "Successfully installed praw-7.5.0 prawcore-2.3.0 update-checker-0.18.0 websocket-client-1.3.2\n"
     ]
    }
   ],
   "source": [
    "#----------Section1----------Install Packages-------------\n",
    "!pip install pandas\n",
    "!pip install requests\n",
    "!pip install pymongo\n",
    "!pip install urllib3\n",
    "!pip install datetime\n",
    "!pip install praw"
   ]
  },
  {
   "cell_type": "code",
   "execution_count": 11,
   "metadata": {},
   "outputs": [],
   "source": [
    "#----------Section2----------authentication and search domain-------------\n",
    "#use params to set the number of returned items\n",
    "import praw\n",
    "import pandas as pd\n",
    "import datetime as dt\n",
    "\n",
    "CLIENT_ID = 'OJf9FMXFuoLCWQnOj0aaAw'\n",
    "SECRET_KEY = 'CKZApGhPDOFKjjrrzI6BbkiXoN5e5A'\n",
    "\n",
    "#if you want look into multiple subreddit \n",
    "# use + to add subreddits together\n",
    "# sub = 'SustainableFashion+learnpython'\n",
    "sub = 'SustainableFashion'\n",
    "keyword=\"brand\"\n",
    "sort = ''\n",
    "timr_filter =''\n",
    "reddit = praw.Reddit(username ='mini_data_scraper', user_agent = \"A bot that tells you it's a bot... V2.0\",\n",
    "                     client_id= CLIENT_ID, client_secret = SECRET_KEY)"
   ]
  },
  {
   "cell_type": "code",
   "execution_count": 14,
   "metadata": {},
   "outputs": [],
   "source": [
    "#----------Section3----------Scrape data-------------\n",
    "topics_dict = { \"title\":[], \\\n",
    "               \"author\":[], \\\n",
    "               \"author_des\":[], \\\n",
    "               \"comment\":[], \\\n",
    "               \"comment_author\":[], \\\n",
    "               \"comment_author_des\":[], \\\n",
    "               \"comment_reply\":[], \\\n",
    "               \"comment_reply_author\":[],\\\n",
    "               \"comment_reply_author_des\":[]}\n",
    "\n",
    "all = reddit.subreddit(sub)\n",
    "for submission in all.search(keyword,'relevance', 'day' ,limit= 2):\n",
    "    comment_csv = open(submission.name + '_submissions.csv', 'w')\n",
    "    for comment in submission.comments:\n",
    "        for reply in comment.replies: \n",
    "            topics_dict[\"title\"].append(submission.title)\n",
    "            topics_dict[\"author\"].append(submission.author)\n",
    "            topics_dict[\"author_des\"].append(submission.author.subreddit.public_description)\n",
    "            topics_dict[\"comment\"].append(comment.body)\n",
    "            topics_dict[\"comment_author\"].append(comment.author)\n",
    "            if comment.author is not None:\n",
    "                topics_dict[\"comment_author_des\"].append(comment.author.subreddit.public_description)\n",
    "            else: \n",
    "                topics_dict[\"comment_author_des\"].append('none')\n",
    "            topics_dict[\"comment_reply\"].append(reply.body)\n",
    "            topics_dict[\"comment_reply_author\"].append(reply.author)\n",
    "            if comment.author is not None:\n",
    "                topics_dict[\"comment_reply_author_des\"].append(reply.author.subreddit.public_description)\n",
    "            else: \n",
    "                topics_dict[\"comment_reply_author_des\"].append('none')\n",
    "        \n",
    "    topics_data = pd.DataFrame(topics_dict)\n",
    "    topics_data.to_csv(submission.name + '_submissions.csv')\n",
    "    comment_csv.close()\n",
    "    "
   ]
  },
  {
   "cell_type": "code",
   "execution_count": null,
   "metadata": {},
   "outputs": [],
   "source": []
  }
 ],
 "metadata": {
  "kernelspec": {
   "display_name": "Python 3",
   "language": "python",
   "name": "python3"
  },
  "language_info": {
   "codemirror_mode": {
    "name": "ipython",
    "version": 3
   },
   "file_extension": ".py",
   "mimetype": "text/x-python",
   "name": "python",
   "nbconvert_exporter": "python",
   "pygments_lexer": "ipython3",
   "version": "3.8.3"
  }
 },
 "nbformat": 4,
 "nbformat_minor": 4
}
